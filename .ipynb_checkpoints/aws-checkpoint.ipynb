{
 "cells": [
  {
   "cell_type": "code",
   "execution_count": 2,
   "metadata": {},
   "outputs": [
    {
     "name": "stdout",
     "output_type": "stream",
     "text": [
      "Training input/output will be stored in: s3://doyeongkim-anomaly-detection/sagemaker/rcf-benchmarks\n"
     ]
    }
   ],
   "source": [
    "import boto3\n",
    "import botocore\n",
    "import sagemaker\n",
    "import sys\n",
    "\n",
    "\n",
    "bucket = '[YOUR_BUCKET_NAME]'   # <--- specify a bucket you have access to\n",
    "prefix = 'sagemaker/rcf-benchmarks'\n",
    "execution_role = \"[YOUR_EXECUTION_ROLE]\"\n",
    "dd\n",
    "boto_session = boto3.Session(\n",
    "    aws_access_key_id=\"[YOUR_ACCESS_KEY_ID]\",\n",
    "    aws_secret_access_key=\"[YOUR_SECRET_ACCESS_KEY]\",\n",
    "    region_name= \"[YOUR_REGION]\"\n",
    ")\n",
    "\n",
    "# check if the bucket exists\n",
    "try:\n",
    "    boto_session.client('s3').head_bucket(Bucket=bucket)\n",
    "except botocore.exceptions.ParamValidationError as e:\n",
    "    print('Hey! You either forgot to specify your S3 bucket'\n",
    "          ' or you gave your bucket an invalid name!')\n",
    "except botocore.exceptions.ClientError as e:\n",
    "    if e.response['Error']['Code'] == '403':\n",
    "        print(\"Hey! You don't have permission to access the bucket, {}.\".format(bucket))\n",
    "    elif e.response['Error']['Code'] == '404':\n",
    "        print(\"Hey! Your bucket, {}, doesn't exist!\".format(bucket))\n",
    "    else:\n",
    "        raise\n",
    "else:\n",
    "    print('Training input/output will be stored in: s3://{}/{}'.format(bucket, prefix))"
   ]
  },
  {
   "cell_type": "code",
   "execution_count": 13,
   "metadata": {},
   "outputs": [],
   "source": [
    "import pandas as pd\n",
    "df = pd.read_csv('dataset.csv')"
   ]
  },
  {
   "cell_type": "code",
   "execution_count": 14,
   "metadata": {},
   "outputs": [
    {
     "name": "stderr",
     "output_type": "stream",
     "text": [
      "C:\\Anaconda3\\lib\\site-packages\\ipykernel_launcher.py:16: FutureWarning: Method .as_matrix will be removed in a future version. Use .values instead.\n",
      "  app.launch_new_instance()\n"
     ]
    },
    {
     "name": "stdout",
     "output_type": "stream",
     "text": [
      "2019-05-18 15:50:27 Starting - Starting the training job...\n",
      "2019-05-18 15:50:34 Starting - Launching requested ML instances......\n",
      "2019-05-18 15:51:37 Starting - Preparing the instances for training...\n",
      "2019-05-18 15:52:23 Downloading - Downloading input data...\n",
      "2019-05-18 15:52:38 Training - Downloading the training image....\n",
      "\u001b[31mDocker entrypoint called with argument(s): train\u001b[0m\n",
      "\u001b[31m[05/18/2019 15:53:31 INFO 140001457477440] Reading default configuration from /opt/amazon/lib/python2.7/site-packages/algorithm/resources/default-conf.json: {u'_ftp_port': 8999, u'num_samples_per_tree': 256, u'_tuning_objective_metric': u'', u'_num_gpus': u'auto', u'_log_level': u'info', u'_kvstore': u'dist_async', u'force_dense': u'true', u'epochs': 1, u'num_trees': 100, u'eval_metrics': [u'accuracy', u'precision_recall_fscore'], u'_num_kv_servers': u'auto', u'mini_batch_size': 1000}\u001b[0m\n",
      "\u001b[31m[05/18/2019 15:53:31 INFO 140001457477440] Reading provided configuration from /opt/ml/input/config/hyperparameters.json: {u'mini_batch_size': u'1000', u'feature_dim': u'1', u'num_samples_per_tree': u'512', u'num_trees': u'50'}\u001b[0m\n",
      "\u001b[31m[05/18/2019 15:53:31 INFO 140001457477440] Final configuration: {u'_ftp_port': 8999, u'num_samples_per_tree': u'512', u'_tuning_objective_metric': u'', u'_num_gpus': u'auto', u'_log_level': u'info', u'_kvstore': u'dist_async', u'force_dense': u'true', u'epochs': 1, u'feature_dim': u'1', u'num_trees': u'50', u'eval_metrics': [u'accuracy', u'precision_recall_fscore'], u'_num_kv_servers': u'auto', u'mini_batch_size': u'1000'}\u001b[0m\n",
      "\u001b[31m[05/18/2019 15:53:31 WARNING 140001457477440] Loggers have already been setup.\u001b[0m\n",
      "\u001b[31m[05/18/2019 15:53:31 INFO 140001457477440] Launching parameter server for role scheduler\u001b[0m\n",
      "\u001b[31m[05/18/2019 15:53:31 INFO 140001457477440] {'ECS_CONTAINER_METADATA_URI': 'http://169.254.170.2/v3/9a56e4e4-a069-48f4-b2d8-18d6169781d3', 'PROTOCOL_BUFFERS_PYTHON_IMPLEMENTATION_VERSION': '2', 'PATH': '/opt/amazon/bin:/usr/local/nvidia/bin:/usr/local/sbin:/usr/local/bin:/usr/sbin:/usr/bin:/sbin:/bin:/opt/amazon/bin:/opt/amazon/bin', 'SAGEMAKER_HTTP_PORT': '8080', 'HOME': '/root', 'PYTHONUNBUFFERED': 'TRUE', 'CANONICAL_ENVROOT': '/opt/amazon', 'LD_LIBRARY_PATH': '/opt/amazon/lib/python2.7/site-packages/cv2/../../../../lib:/usr/local/nvidia/lib64:/opt/amazon/lib', 'MXNET_KVSTORE_BIGARRAY_BOUND': '400000000', 'LANG': 'en_US.utf8', 'DMLC_INTERFACE': 'ethwe', 'SHLVL': '1', 'AWS_REGION': 'ap-northeast-2', 'NVIDIA_VISIBLE_DEVICES': 'void', 'TRAINING_JOB_NAME': 'randomcutforest-2019-05-18-15-50-26-943', 'PROTOCOL_BUFFERS_PYTHON_IMPLEMENTATION': 'cpp', 'ENVROOT': '/opt/amazon', 'SAGEMAKER_DATA_PATH': '/opt/ml', 'NVIDIA_DRIVER_CAPABILITIES': 'compute,utility', 'NVIDIA_REQUIRE_CUDA': 'cuda>=9.0', 'OMP_NUM_THREADS': '2', 'HOSTNAME': 'aws', 'AWS_CONTAINER_CREDENTIALS_RELATIVE_URI': '/v2/credentials/1c83e0d4-8ba3-43a6-832e-aea20b768052', 'PWD': '/', 'AWS_EXECUTION_ENV': 'AWS_ECS_EC2'}\u001b[0m\n",
      "\u001b[31m[05/18/2019 15:53:31 INFO 140001457477440] envs={'ECS_CONTAINER_METADATA_URI': 'http://169.254.170.2/v3/9a56e4e4-a069-48f4-b2d8-18d6169781d3', 'PROTOCOL_BUFFERS_PYTHON_IMPLEMENTATION_VERSION': '2', 'DMLC_NUM_WORKER': '1', 'DMLC_PS_ROOT_PORT': '9000', 'PATH': '/opt/amazon/bin:/usr/local/nvidia/bin:/usr/local/sbin:/usr/local/bin:/usr/sbin:/usr/bin:/sbin:/bin:/opt/amazon/bin:/opt/amazon/bin', 'SAGEMAKER_HTTP_PORT': '8080', 'HOME': '/root', 'PYTHONUNBUFFERED': 'TRUE', 'CANONICAL_ENVROOT': '/opt/amazon', 'LD_LIBRARY_PATH': '/opt/amazon/lib/python2.7/site-packages/cv2/../../../../lib:/usr/local/nvidia/lib64:/opt/amazon/lib', 'MXNET_KVSTORE_BIGARRAY_BOUND': '400000000', 'LANG': 'en_US.utf8', 'DMLC_INTERFACE': 'ethwe', 'SHLVL': '1', 'DMLC_PS_ROOT_URI': '10.32.0.4', 'AWS_REGION': 'ap-northeast-2', 'NVIDIA_VISIBLE_DEVICES': 'void', 'TRAINING_JOB_NAME': 'randomcutforest-2019-05-18-15-50-26-943', 'PROTOCOL_BUFFERS_PYTHON_IMPLEMENTATION': 'cpp', 'ENVROOT': '/opt/amazon', 'SAGEMAKER_DATA_PATH': '/opt/ml', 'NVIDIA_DRIVER_CAPABILITIES': 'compute,utility', 'NVIDIA_REQUIRE_CUDA': 'cuda>=9.0', 'OMP_NUM_THREADS': '2', 'HOSTNAME': 'aws', 'AWS_CONTAINER_CREDENTIALS_RELATIVE_URI': '/v2/credentials/1c83e0d4-8ba3-43a6-832e-aea20b768052', 'DMLC_ROLE': 'scheduler', 'PWD': '/', 'DMLC_NUM_SERVER': '1', 'AWS_EXECUTION_ENV': 'AWS_ECS_EC2'}\u001b[0m\n",
      "\u001b[31m[05/18/2019 15:53:31 INFO 140001457477440] Launching parameter server for role server\u001b[0m\n",
      "\u001b[31m[05/18/2019 15:53:31 INFO 140001457477440] {'ECS_CONTAINER_METADATA_URI': 'http://169.254.170.2/v3/9a56e4e4-a069-48f4-b2d8-18d6169781d3', 'PROTOCOL_BUFFERS_PYTHON_IMPLEMENTATION_VERSION': '2', 'PATH': '/opt/amazon/bin:/usr/local/nvidia/bin:/usr/local/sbin:/usr/local/bin:/usr/sbin:/usr/bin:/sbin:/bin:/opt/amazon/bin:/opt/amazon/bin', 'SAGEMAKER_HTTP_PORT': '8080', 'HOME': '/root', 'PYTHONUNBUFFERED': 'TRUE', 'CANONICAL_ENVROOT': '/opt/amazon', 'LD_LIBRARY_PATH': '/opt/amazon/lib/python2.7/site-packages/cv2/../../../../lib:/usr/local/nvidia/lib64:/opt/amazon/lib', 'MXNET_KVSTORE_BIGARRAY_BOUND': '400000000', 'LANG': 'en_US.utf8', 'DMLC_INTERFACE': 'ethwe', 'SHLVL': '1', 'AWS_REGION': 'ap-northeast-2', 'NVIDIA_VISIBLE_DEVICES': 'void', 'TRAINING_JOB_NAME': 'randomcutforest-2019-05-18-15-50-26-943', 'PROTOCOL_BUFFERS_PYTHON_IMPLEMENTATION': 'cpp', 'ENVROOT': '/opt/amazon', 'SAGEMAKER_DATA_PATH': '/opt/ml', 'NVIDIA_DRIVER_CAPABILITIES': 'compute,utility', 'NVIDIA_REQUIRE_CUDA': 'cuda>=9.0', 'OMP_NUM_THREADS': '2', 'HOSTNAME': 'aws', 'AWS_CONTAINER_CREDENTIALS_RELATIVE_URI': '/v2/credentials/1c83e0d4-8ba3-43a6-832e-aea20b768052', 'PWD': '/', 'AWS_EXECUTION_ENV': 'AWS_ECS_EC2'}\u001b[0m\n",
      "\u001b[31m[05/18/2019 15:53:31 INFO 140001457477440] envs={'ECS_CONTAINER_METADATA_URI': 'http://169.254.170.2/v3/9a56e4e4-a069-48f4-b2d8-18d6169781d3', 'PROTOCOL_BUFFERS_PYTHON_IMPLEMENTATION_VERSION': '2', 'DMLC_NUM_WORKER': '1', 'DMLC_PS_ROOT_PORT': '9000', 'PATH': '/opt/amazon/bin:/usr/local/nvidia/bin:/usr/local/sbin:/usr/local/bin:/usr/sbin:/usr/bin:/sbin:/bin:/opt/amazon/bin:/opt/amazon/bin', 'SAGEMAKER_HTTP_PORT': '8080', 'HOME': '/root', 'PYTHONUNBUFFERED': 'TRUE', 'CANONICAL_ENVROOT': '/opt/amazon', 'LD_LIBRARY_PATH': '/opt/amazon/lib/python2.7/site-packages/cv2/../../../../lib:/usr/local/nvidia/lib64:/opt/amazon/lib', 'MXNET_KVSTORE_BIGARRAY_BOUND': '400000000', 'LANG': 'en_US.utf8', 'DMLC_INTERFACE': 'ethwe', 'SHLVL': '1', 'DMLC_PS_ROOT_URI': '10.32.0.4', 'AWS_REGION': 'ap-northeast-2', 'NVIDIA_VISIBLE_DEVICES': 'void', 'TRAINING_JOB_NAME': 'randomcutforest-2019-05-18-15-50-26-943', 'PROTOCOL_BUFFERS_PYTHON_IMPLEMENTATION': 'cpp', 'ENVROOT': '/opt/amazon', 'SAGEMAKER_DATA_PATH': '/opt/ml', 'NVIDIA_DRIVER_CAPABILITIES': 'compute,utility', 'NVIDIA_REQUIRE_CUDA': 'cuda>=9.0', 'OMP_NUM_THREADS': '2', 'HOSTNAME': 'aws', 'AWS_CONTAINER_CREDENTIALS_RELATIVE_URI': '/v2/credentials/1c83e0d4-8ba3-43a6-832e-aea20b768052', 'DMLC_ROLE': 'server', 'PWD': '/', 'DMLC_NUM_SERVER': '1', 'AWS_EXECUTION_ENV': 'AWS_ECS_EC2'}\u001b[0m\n",
      "\u001b[31m[05/18/2019 15:53:31 INFO 140001457477440] Environment: {'ECS_CONTAINER_METADATA_URI': 'http://169.254.170.2/v3/9a56e4e4-a069-48f4-b2d8-18d6169781d3', 'PROTOCOL_BUFFERS_PYTHON_IMPLEMENTATION_VERSION': '2', 'DMLC_PS_ROOT_PORT': '9000', 'DMLC_NUM_WORKER': '1', 'SAGEMAKER_HTTP_PORT': '8080', 'PATH': '/opt/amazon/bin:/usr/local/nvidia/bin:/usr/local/sbin:/usr/local/bin:/usr/sbin:/usr/bin:/sbin:/bin:/opt/amazon/bin:/opt/amazon/bin', 'PYTHONUNBUFFERED': 'TRUE', 'CANONICAL_ENVROOT': '/opt/amazon', 'LD_LIBRARY_PATH': '/opt/amazon/lib/python2.7/site-packages/cv2/../../../../lib:/usr/local/nvidia/lib64:/opt/amazon/lib', 'MXNET_KVSTORE_BIGARRAY_BOUND': '400000000', 'LANG': 'en_US.utf8', 'DMLC_INTERFACE': 'ethwe', 'SHLVL': '1', 'DMLC_PS_ROOT_URI': '10.32.0.4', 'AWS_REGION': 'ap-northeast-2', 'NVIDIA_VISIBLE_DEVICES': 'void', 'TRAINING_JOB_NAME': 'randomcutforest-2019-05-18-15-50-26-943', 'HOME': '/root', 'PROTOCOL_BUFFERS_PYTHON_IMPLEMENTATION': 'cpp', 'ENVROOT': '/opt/amazon', 'SAGEMAKER_DATA_PATH': '/opt/ml', 'NVIDIA_DRIVER_CAPABILITIES': 'compute,utility', 'NVIDIA_REQUIRE_CUDA': 'cuda>=9.0', 'OMP_NUM_THREADS': '2', 'HOSTNAME': 'aws', 'AWS_CONTAINER_CREDENTIALS_RELATIVE_URI': '/v2/credentials/1c83e0d4-8ba3-43a6-832e-aea20b768052', 'DMLC_ROLE': 'worker', 'PWD': '/', 'DMLC_NUM_SERVER': '1', 'AWS_EXECUTION_ENV': 'AWS_ECS_EC2'}\u001b[0m\n",
      "\u001b[31mProcess 37 is a shell:scheduler.\u001b[0m\n",
      "\u001b[31mProcess 38 is a shell:server.\u001b[0m\n",
      "\u001b[31mProcess 1 is a worker.\u001b[0m\n",
      "\u001b[31m[05/18/2019 15:53:31 INFO 140001457477440] Using default worker.\u001b[0m\n",
      "\u001b[31m[05/18/2019 15:53:31 INFO 140001457477440] Loaded iterator creator application/x-recordio-protobuf for content type ('application/x-recordio-protobuf', '1.0')\u001b[0m\n",
      "\u001b[31m[05/18/2019 15:53:31 INFO 140001457477440] Verifying hyperparamemters...\u001b[0m\n",
      "\u001b[31m[05/18/2019 15:53:31 INFO 140001457477440] Hyperparameters are correct.\u001b[0m\n",
      "\u001b[31m[05/18/2019 15:53:31 INFO 140001457477440] Validating that feature_dim agrees with dimensions in training data...\u001b[0m\n",
      "\u001b[31m[05/18/2019 15:53:31 INFO 140001457477440] feature_dim is correct.\u001b[0m\n",
      "\u001b[31m[05/18/2019 15:53:31 INFO 140001457477440] Validating memory limits...\u001b[0m\n",
      "\u001b[31m[05/18/2019 15:53:31 INFO 140001457477440] Available memory in bytes: 15174791168\u001b[0m\n",
      "\u001b[31m[05/18/2019 15:53:31 INFO 140001457477440] Estimated sample size in bytes: 409600\u001b[0m\n",
      "\u001b[31m[05/18/2019 15:53:31 INFO 140001457477440] Estimated memory needed to build the forest in bytes: 1024000\u001b[0m\n",
      "\u001b[31m[05/18/2019 15:53:31 INFO 140001457477440] Memory limits validated.\u001b[0m\n",
      "\u001b[31m[05/18/2019 15:53:31 INFO 140001457477440] Starting cluster sharing facilities...\u001b[0m\n",
      "\u001b[31m[I 19-05-18 15:53:31] >>> starting FTP server on 0.0.0.0:8999, pid=1 <<<\u001b[0m\n",
      "\u001b[31m[05/18/2019 15:53:31 INFO 139999987083008] >>> starting FTP server on 0.0.0.0:8999, pid=1 <<<\u001b[0m\n",
      "\u001b[31m[I 19-05-18 15:53:31] poller: <class 'pyftpdlib.ioloop.Epoll'>\u001b[0m\n",
      "\u001b[31m[05/18/2019 15:53:31 INFO 139999987083008] poller: <class 'pyftpdlib.ioloop.Epoll'>\u001b[0m\n",
      "\u001b[31m[I 19-05-18 15:53:31] masquerade (NAT) address: None\u001b[0m\n",
      "\u001b[31m[05/18/2019 15:53:31 INFO 139999987083008] masquerade (NAT) address: None\u001b[0m\n",
      "\u001b[31m[I 19-05-18 15:53:31] passive ports: None\u001b[0m\n",
      "\u001b[31m[05/18/2019 15:53:31 INFO 139999987083008] passive ports: None\u001b[0m\n",
      "\u001b[31m[05/18/2019 15:53:31 INFO 140001457477440] Create Store: dist_async\u001b[0m\n",
      "\u001b[31m[I 19-05-18 15:53:31] use sendfile(2): False\u001b[0m\n",
      "\u001b[31m[05/18/2019 15:53:31 INFO 139999987083008] use sendfile(2): False\u001b[0m\n",
      "\u001b[31m[05/18/2019 15:53:32 INFO 140001457477440] Cluster sharing facilities started.\u001b[0m\n",
      "\u001b[31m[05/18/2019 15:53:32 INFO 140001457477440] Verifying all workers are accessible...\u001b[0m\n",
      "\u001b[31m[05/18/2019 15:53:32 INFO 140001457477440] All workers accessible.\u001b[0m\n",
      "\u001b[31m[05/18/2019 15:53:32 INFO 140001457477440] Initializing Sampler...\u001b[0m\n",
      "\u001b[31m[05/18/2019 15:53:32 INFO 140001457477440] Sampler correctly initialized.\u001b[0m\n",
      "\u001b[31m#metrics {\"Metrics\": {\"initialize.time\": {\"count\": 1, \"max\": 774.9691009521484, \"sum\": 774.9691009521484, \"min\": 774.9691009521484}}, \"EndTime\": 1558194812.224457, \"Dimensions\": {\"Host\": \"algo-1\", \"Operation\": \"training\", \"Algorithm\": \"RandomCutForest\"}, \"StartTime\": 1558194811.442651}\n",
      "\u001b[0m\n",
      "\u001b[31m#metrics {\"Metrics\": {\"Max Batches Seen Between Resets\": {\"count\": 1, \"max\": 0, \"sum\": 0.0, \"min\": 0}, \"Number of Batches Since Last Reset\": {\"count\": 1, \"max\": 0, \"sum\": 0.0, \"min\": 0}, \"Number of Records Since Last Reset\": {\"count\": 1, \"max\": 0, \"sum\": 0.0, \"min\": 0}, \"Total Batches Seen\": {\"count\": 1, \"max\": 0, \"sum\": 0.0, \"min\": 0}, \"Total Records Seen\": {\"count\": 1, \"max\": 0, \"sum\": 0.0, \"min\": 0}, \"Max Records Seen Between Resets\": {\"count\": 1, \"max\": 0, \"sum\": 0.0, \"min\": 0}, \"Reset Count\": {\"count\": 1, \"max\": 0, \"sum\": 0.0, \"min\": 0}}, \"EndTime\": 1558194812.224698, \"Dimensions\": {\"Host\": \"algo-1\", \"Meta\": \"init_train_data_iter\", \"Operation\": \"training\", \"Algorithm\": \"RandomCutForest\"}, \"StartTime\": 1558194812.224651}\n",
      "\u001b[0m\n",
      "\u001b[31m[2019-05-18 15:53:32.224] [tensorio] [info] epoch_stats={\"data_pipeline\": \"/opt/ml/input/data/train\", \"epoch\": 0, \"duration\": 781, \"num_examples\": 1, \"num_bytes\": 32000}\u001b[0m\n",
      "\u001b[31m[05/18/2019 15:53:32 INFO 140001457477440] Sampling training data...\u001b[0m\n",
      "\u001b[31m[2019-05-18 15:53:32.238] [tensorio] [info] epoch_stats={\"data_pipeline\": \"/opt/ml/input/data/train\", \"epoch\": 1, \"duration\": 13, \"num_examples\": 1, \"num_bytes\": 32000}\u001b[0m\n",
      "\u001b[31m[05/18/2019 15:53:32 INFO 140001457477440] Sampling training data completed.\u001b[0m\n",
      "\u001b[31m#metrics {\"Metrics\": {\"epochs\": {\"count\": 1, \"max\": 1, \"sum\": 1.0, \"min\": 1}, \"update.time\": {\"count\": 1, \"max\": 16.47806167602539, \"sum\": 16.47806167602539, \"min\": 16.47806167602539}}, \"EndTime\": 1558194812.241455, \"Dimensions\": {\"Host\": \"algo-1\", \"Operation\": \"training\", \"Algorithm\": \"RandomCutForest\"}, \"StartTime\": 1558194812.224592}\n",
      "\u001b[0m\n",
      "\u001b[31m[05/18/2019 15:53:32 INFO 140001457477440] Early stop condition met. Stopping training.\u001b[0m\n",
      "\u001b[31m[05/18/2019 15:53:32 INFO 140001457477440] #progress_metric: host=algo-1, completed 100 % epochs\u001b[0m\n",
      "\u001b[31m#metrics {\"Metrics\": {\"Max Batches Seen Between Resets\": {\"count\": 1, \"max\": 1, \"sum\": 1.0, \"min\": 1}, \"Number of Batches Since Last Reset\": {\"count\": 1, \"max\": 1, \"sum\": 1.0, \"min\": 1}, \"Number of Records Since Last Reset\": {\"count\": 1, \"max\": 1000, \"sum\": 1000.0, \"min\": 1000}, \"Total Batches Seen\": {\"count\": 1, \"max\": 1, \"sum\": 1.0, \"min\": 1}, \"Total Records Seen\": {\"count\": 1, \"max\": 1000, \"sum\": 1000.0, \"min\": 1000}, \"Max Records Seen Between Resets\": {\"count\": 1, \"max\": 1000, \"sum\": 1000.0, \"min\": 1000}, \"Reset Count\": {\"count\": 1, \"max\": 1, \"sum\": 1.0, \"min\": 1}}, \"EndTime\": 1558194812.241779, \"Dimensions\": {\"Host\": \"algo-1\", \"Meta\": \"training_data_iter\", \"Operation\": \"training\", \"Algorithm\": \"RandomCutForest\", \"epoch\": 0}, \"StartTime\": 1558194812.22495}\n",
      "\u001b[0m\n",
      "\u001b[31m[05/18/2019 15:53:32 INFO 140001457477440] #throughput_metric: host=algo-1, train throughput=59000.7455443 records/second\u001b[0m\n",
      "\u001b[31m[05/18/2019 15:53:32 INFO 140001457477440] Master node: building Random Cut Forest...\u001b[0m\n",
      "\u001b[31m[05/18/2019 15:53:32 INFO 140001457477440] Gathering samples...\u001b[0m\n",
      "\u001b[31m[05/18/2019 15:53:32 INFO 140001457477440] 1000 samples gathered\u001b[0m\n",
      "\u001b[31m[05/18/2019 15:53:32 INFO 140001457477440] Building Random Cut Forest...\u001b[0m\n",
      "\u001b[31m[05/18/2019 15:53:32 INFO 140001457477440] Random Cut Forest built: \n",
      "\u001b[0m\n",
      "\u001b[31mForestInfo{num_trees: 50, num_samples_in_forest: 1000, num_samples_per_tree: 20, sample_dim: 1, shingle_size: 1, trees_num_nodes: [39, 39, 39, 39, 39, 39, 39, 39, 39, 39, 39, 39, 39, 39, 39, 39, 39, 39, 39, 39, 39, 39, 39, 39, 39, 39, 39, 39, 39, 39, 39, 39, 39, 39, 39, 39, 39, 39, 39, 39, 39, 39, 39, 39, 39, 39, 39, 39, 39, 39, ], trees_depth: [11, 12, 8, 8, 10, 8, 10, 8, 8, 10, 9, 9, 9, 8, 8, 8, 9, 9, 10, 9, 9, 9, 8, 8, 11, 8, 9, 10, 9, 8, 9, 10, 8, 11, 11, 11, 8, 9, 7, 10, 10, 9, 7, 9, 10, 8, 9, 8, 11, 8, ], max_num_nodes: 39, min_num_nodes: 39, avg_num_nodes: 39, max_tree_depth: 12, min_tree_depth: 7, avg_tree_depth: 9, mem_size: 203248}\u001b[0m\n",
      "\u001b[31m#metrics {\"Metrics\": {\"finalize.time\": {\"count\": 1, \"max\": 3.3140182495117188, \"sum\": 3.3140182495117188, \"min\": 3.3140182495117188}, \"model.bytes\": {\"count\": 1, \"max\": 203248, \"sum\": 203248.0, \"min\": 203248}, \"fit_model.time\": {\"count\": 1, \"max\": 1.2199878692626953, \"sum\": 1.2199878692626953, \"min\": 1.2199878692626953}}, \"EndTime\": 1558194812.245357, \"Dimensions\": {\"Host\": \"algo-1\", \"Operation\": \"training\", \"Algorithm\": \"RandomCutForest\"}, \"StartTime\": 1558194812.241526}\n",
      "\u001b[0m\n",
      "\u001b[31m[05/18/2019 15:53:32 INFO 140001457477440] Master node: Serializing the RandomCutForest model\u001b[0m\n",
      "\u001b[31m#metrics {\"Metrics\": {\"serialize_model.time\": {\"count\": 1, \"max\": 4.709959030151367, \"sum\": 4.709959030151367, \"min\": 4.709959030151367}}, \"EndTime\": 1558194812.250203, \"Dimensions\": {\"Host\": \"algo-1\", \"Operation\": \"training\", \"Algorithm\": \"RandomCutForest\"}, \"StartTime\": 1558194812.245459}\n",
      "\u001b[0m\n",
      "\u001b[31m[05/18/2019 15:53:32 INFO 140001457477440] Test data is not provided.\u001b[0m\n",
      "\u001b[31m[I 19-05-18 15:53:32] >>> shutting down FTP server (0 active fds) <<<\u001b[0m\n",
      "\u001b[31m[05/18/2019 15:53:32 INFO 139999987083008] >>> shutting down FTP server (0 active fds) <<<\u001b[0m\n",
      "\u001b[31m#metrics {\"Metrics\": {\"totaltime\": {\"count\": 1, \"max\": 1008.4090232849121, \"sum\": 1008.4090232849121, \"min\": 1008.4090232849121}, \"setuptime\": {\"count\": 1, \"max\": 184.7062110900879, \"sum\": 184.7062110900879, \"min\": 184.7062110900879}}, \"EndTime\": 1558194812.25961, \"Dimensions\": {\"Host\": \"algo-1\", \"Operation\": \"training\", \"Algorithm\": \"RandomCutForest\"}, \"StartTime\": 1558194812.250268}\n",
      "\u001b[0m\n",
      "\n",
      "2019-05-18 15:53:40 Uploading - Uploading generated training model\n",
      "2019-05-18 15:53:40 Completed - Training job completed\n",
      "Billable seconds: 78\n"
     ]
    }
   ],
   "source": [
    "from sagemaker import RandomCutForest\n",
    "\n",
    "sg_session = sagemaker.Session(boto_session)\n",
    "\n",
    "# specify general training job information\n",
    "rcf = RandomCutForest(role=execution_role,\n",
    "                      train_instance_count=1,\n",
    "                      train_instance_type='ml.m4.xlarge',\n",
    "                      data_location='s3://{}/{}/'.format(bucket, prefix),\n",
    "                      output_path='s3://{}/{}/output'.format(bucket, prefix),\n",
    "                      num_samples_per_tree=512,\n",
    "                      num_trees=50,\n",
    "                      sagemaker_session = sg_session)\n",
    "\n",
    "# automatically upload the training data to S3 and run the training job\n",
    "rcf.fit(rcf.record_set(df.value.as_matrix().reshape(-1,1)))"
   ]
  },
  {
   "cell_type": "code",
   "execution_count": 15,
   "metadata": {},
   "outputs": [
    {
     "name": "stdout",
     "output_type": "stream",
     "text": [
      "Training job name: randomcutforest-2019-05-18-15-50-26-943\n"
     ]
    }
   ],
   "source": [
    "print('Training job name: {}'.format(rcf.latest_training_job.job_name))"
   ]
  },
  {
   "cell_type": "code",
   "execution_count": 16,
   "metadata": {
    "scrolled": true
   },
   "outputs": [
    {
     "name": "stdout",
     "output_type": "stream",
     "text": [
      "---------------------------------------------------------------------------!"
     ]
    }
   ],
   "source": [
    "rcf_inference = rcf.deploy(\n",
    "    initial_instance_count=1,\n",
    "    instance_type='ml.m4.xlarge',\n",
    ")"
   ]
  },
  {
   "cell_type": "code",
   "execution_count": 17,
   "metadata": {},
   "outputs": [
    {
     "name": "stdout",
     "output_type": "stream",
     "text": [
      "Endpoint name: randomcutforest-2019-05-18-15-50-26-943\n"
     ]
    }
   ],
   "source": [
    "print('Endpoint name: {}'.format(rcf_inference.endpoint))"
   ]
  },
  {
   "cell_type": "code",
   "execution_count": 21,
   "metadata": {},
   "outputs": [],
   "source": [
    "from sagemaker.predictor import csv_serializer, json_deserializer\n",
    "\n",
    "rcf_inference.content_type = 'text/csv'\n",
    "rcf_inference.serializer = csv_serializer\n",
    "rcf_inference.accept = 'application/json'\n",
    "rcf_inference.deserializer = json_deserializer"
   ]
  },
  {
   "cell_type": "code",
   "execution_count": 22,
   "metadata": {},
   "outputs": [
    {
     "name": "stderr",
     "output_type": "stream",
     "text": [
      "C:\\Anaconda3\\lib\\site-packages\\ipykernel_launcher.py:1: FutureWarning: Method .as_matrix will be removed in a future version. Use .values instead.\n",
      "  \"\"\"Entry point for launching an IPython kernel.\n"
     ]
    },
    {
     "name": "stdout",
     "output_type": "stream",
     "text": [
      "[[1.76405235]\n",
      " [0.77615691]\n",
      " [1.72480765]\n",
      " [3.34526686]\n",
      " [3.31281901]\n",
      " [0.78607788]]\n"
     ]
    }
   ],
   "source": [
    "df_numpy = df.value.as_matrix().reshape(-1,1)\n",
    "print(df_numpy[:6])\n",
    "results = rcf_inference.predict(df_numpy[:6])"
   ]
  },
  {
   "cell_type": "code",
   "execution_count": 23,
   "metadata": {},
   "outputs": [
    {
     "data": {
      "text/html": [
       "<div>\n",
       "<style scoped>\n",
       "    .dataframe tbody tr th:only-of-type {\n",
       "        vertical-align: middle;\n",
       "    }\n",
       "\n",
       "    .dataframe tbody tr th {\n",
       "        vertical-align: top;\n",
       "    }\n",
       "\n",
       "    .dataframe thead th {\n",
       "        text-align: right;\n",
       "    }\n",
       "</style>\n",
       "<table border=\"1\" class=\"dataframe\">\n",
       "  <thead>\n",
       "    <tr style=\"text-align: right;\">\n",
       "      <th></th>\n",
       "      <th>Unnamed: 0</th>\n",
       "      <th>datetime</th>\n",
       "      <th>value</th>\n",
       "      <th>score</th>\n",
       "    </tr>\n",
       "  </thead>\n",
       "  <tbody>\n",
       "    <tr>\n",
       "      <th>0</th>\n",
       "      <td>0</td>\n",
       "      <td>2000-01-01T00:00:00</td>\n",
       "      <td>1.764052</td>\n",
       "      <td>1.111950</td>\n",
       "    </tr>\n",
       "    <tr>\n",
       "      <th>1</th>\n",
       "      <td>1</td>\n",
       "      <td>2000-01-02T00:00:00</td>\n",
       "      <td>0.776157</td>\n",
       "      <td>1.023875</td>\n",
       "    </tr>\n",
       "    <tr>\n",
       "      <th>2</th>\n",
       "      <td>2</td>\n",
       "      <td>2000-01-03T00:00:00</td>\n",
       "      <td>1.724808</td>\n",
       "      <td>1.101814</td>\n",
       "    </tr>\n",
       "    <tr>\n",
       "      <th>3</th>\n",
       "      <td>3</td>\n",
       "      <td>2000-01-04T00:00:00</td>\n",
       "      <td>3.345267</td>\n",
       "      <td>1.530572</td>\n",
       "    </tr>\n",
       "    <tr>\n",
       "      <th>4</th>\n",
       "      <td>4</td>\n",
       "      <td>2000-01-05T00:00:00</td>\n",
       "      <td>3.312819</td>\n",
       "      <td>1.520898</td>\n",
       "    </tr>\n",
       "  </tbody>\n",
       "</table>\n",
       "</div>"
      ],
      "text/plain": [
       "   Unnamed: 0             datetime     value     score\n",
       "0           0  2000-01-01T00:00:00  1.764052  1.111950\n",
       "1           1  2000-01-02T00:00:00  0.776157  1.023875\n",
       "2           2  2000-01-03T00:00:00  1.724808  1.101814\n",
       "3           3  2000-01-04T00:00:00  3.345267  1.530572\n",
       "4           4  2000-01-05T00:00:00  3.312819  1.520898"
      ]
     },
     "execution_count": 23,
     "metadata": {},
     "output_type": "execute_result"
    }
   ],
   "source": [
    "results = rcf_inference.predict(df_numpy)\n",
    "scores = [datum['score'] for datum in results['scores']]\n",
    "\n",
    "# add scores to taxi data frame and print first few values\n",
    "df['score'] = pd.Series(scores, index=df.index)\n",
    "df.head()"
   ]
  },
  {
   "cell_type": "code",
   "execution_count": 1,
   "metadata": {},
   "outputs": [
    {
     "ename": "NameError",
     "evalue": "name 'df' is not defined",
     "output_type": "error",
     "traceback": [
      "\u001b[1;31m---------------------------------------------------------------------------\u001b[0m",
      "\u001b[1;31mNameError\u001b[0m                                 Traceback (most recent call last)",
      "\u001b[1;32m<ipython-input-1-68f7660ab02a>\u001b[0m in \u001b[0;36m<module>\u001b[1;34m\u001b[0m\n\u001b[0;32m      8\u001b[0m \u001b[1;31m# anomaly found earlier in this notebook\u001b[0m\u001b[1;33m\u001b[0m\u001b[1;33m\u001b[0m\u001b[1;33m\u001b[0m\u001b[0m\n\u001b[0;32m      9\u001b[0m \u001b[1;31m#\u001b[0m\u001b[1;33m\u001b[0m\u001b[1;33m\u001b[0m\u001b[1;33m\u001b[0m\u001b[0m\n\u001b[1;32m---> 10\u001b[1;33m \u001b[0mstart\u001b[0m\u001b[1;33m,\u001b[0m \u001b[0mend\u001b[0m \u001b[1;33m=\u001b[0m \u001b[1;36m0\u001b[0m\u001b[1;33m,\u001b[0m \u001b[0mlen\u001b[0m\u001b[1;33m(\u001b[0m\u001b[0mdf\u001b[0m\u001b[1;33m)\u001b[0m\u001b[1;33m\u001b[0m\u001b[1;33m\u001b[0m\u001b[0m\n\u001b[0m\u001b[0;32m     11\u001b[0m \u001b[1;31m#start, end = 5500, 6500\u001b[0m\u001b[1;33m\u001b[0m\u001b[1;33m\u001b[0m\u001b[1;33m\u001b[0m\u001b[0m\n\u001b[0;32m     12\u001b[0m \u001b[0mdf_subset\u001b[0m \u001b[1;33m=\u001b[0m \u001b[0mdf\u001b[0m\u001b[1;33m[\u001b[0m\u001b[0mstart\u001b[0m\u001b[1;33m:\u001b[0m\u001b[0mend\u001b[0m\u001b[1;33m]\u001b[0m\u001b[1;33m\u001b[0m\u001b[1;33m\u001b[0m\u001b[0m\n",
      "\u001b[1;31mNameError\u001b[0m: name 'df' is not defined"
     ]
    }
   ],
   "source": [
    "import matplotlib.pyplot as plt\n",
    "\n",
    "fig, ax1 = plt.subplots()\n",
    "ax2 = ax1.twinx()\n",
    "\n",
    "#\n",
    "# *Try this out* - change `start` and `end` to zoom in on the \n",
    "# anomaly found earlier in this notebook\n",
    "#\n",
    "start, end = 0, len(df)\n",
    "#start, end = 5500, 6500\n",
    "df_subset = df[start:end]\n",
    "\n",
    "ax1.plot(df_subset['value'], color='C0', alpha=0.8)\n",
    "ax2.plot(df_subset['score'], color='C1')\n",
    "\n",
    "ax1.grid(which='major', axis='both')\n",
    "\n",
    "ax1.set_ylabel('Taxi Ridership', color='C0')\n",
    "ax2.set_ylabel('Anomaly Score', color='C1')\n",
    "\n",
    "ax1.tick_params('y', colors='C0')\n",
    "ax2.tick_params('y', colors='C1')\n",
    "\n",
    "ax1.set_ylim(-10, 10)\n",
    "ax2.set_ylim(min(scores), 1.4*max(scores))\n",
    "fig.set_figwidth(10)"
   ]
  },
  {
   "cell_type": "code",
   "execution_count": 30,
   "metadata": {},
   "outputs": [
    {
     "data": {
      "text/html": [
       "<div>\n",
       "<style scoped>\n",
       "    .dataframe tbody tr th:only-of-type {\n",
       "        vertical-align: middle;\n",
       "    }\n",
       "\n",
       "    .dataframe tbody tr th {\n",
       "        vertical-align: top;\n",
       "    }\n",
       "\n",
       "    .dataframe thead th {\n",
       "        text-align: right;\n",
       "    }\n",
       "</style>\n",
       "<table border=\"1\" class=\"dataframe\">\n",
       "  <thead>\n",
       "    <tr style=\"text-align: right;\">\n",
       "      <th></th>\n",
       "      <th>Unnamed: 0</th>\n",
       "      <th>datetime</th>\n",
       "      <th>value</th>\n",
       "      <th>score</th>\n",
       "    </tr>\n",
       "  </thead>\n",
       "  <tbody>\n",
       "    <tr>\n",
       "      <th>96</th>\n",
       "      <td>96</td>\n",
       "      <td>2000-04-06T00:00:00</td>\n",
       "      <td>-12.971341</td>\n",
       "      <td>3.301107</td>\n",
       "    </tr>\n",
       "    <tr>\n",
       "      <th>177</th>\n",
       "      <td>177</td>\n",
       "      <td>2000-06-26T00:00:00</td>\n",
       "      <td>11.035253</td>\n",
       "      <td>3.197475</td>\n",
       "    </tr>\n",
       "    <tr>\n",
       "      <th>418</th>\n",
       "      <td>418</td>\n",
       "      <td>2001-02-22T00:00:00</td>\n",
       "      <td>16.949052</td>\n",
       "      <td>3.534231</td>\n",
       "    </tr>\n",
       "    <tr>\n",
       "      <th>427</th>\n",
       "      <td>427</td>\n",
       "      <td>2001-03-03T00:00:00</td>\n",
       "      <td>5.417560</td>\n",
       "      <td>2.345892</td>\n",
       "    </tr>\n",
       "    <tr>\n",
       "      <th>465</th>\n",
       "      <td>465</td>\n",
       "      <td>2001-04-10T00:00:00</td>\n",
       "      <td>5.265623</td>\n",
       "      <td>2.295800</td>\n",
       "    </tr>\n",
       "    <tr>\n",
       "      <th>485</th>\n",
       "      <td>485</td>\n",
       "      <td>2001-04-30T00:00:00</td>\n",
       "      <td>-5.508789</td>\n",
       "      <td>2.238254</td>\n",
       "    </tr>\n",
       "    <tr>\n",
       "      <th>536</th>\n",
       "      <td>536</td>\n",
       "      <td>2001-06-20T00:00:00</td>\n",
       "      <td>10.982062</td>\n",
       "      <td>3.193262</td>\n",
       "    </tr>\n",
       "    <tr>\n",
       "      <th>589</th>\n",
       "      <td>589</td>\n",
       "      <td>2001-08-12T00:00:00</td>\n",
       "      <td>-5.993005</td>\n",
       "      <td>2.376532</td>\n",
       "    </tr>\n",
       "    <tr>\n",
       "      <th>660</th>\n",
       "      <td>660</td>\n",
       "      <td>2001-10-22T00:00:00</td>\n",
       "      <td>-6.338876</td>\n",
       "      <td>2.475846</td>\n",
       "    </tr>\n",
       "    <tr>\n",
       "      <th>685</th>\n",
       "      <td>685</td>\n",
       "      <td>2001-11-16T00:00:00</td>\n",
       "      <td>-5.687724</td>\n",
       "      <td>2.292260</td>\n",
       "    </tr>\n",
       "    <tr>\n",
       "      <th>842</th>\n",
       "      <td>842</td>\n",
       "      <td>2002-04-22T00:00:00</td>\n",
       "      <td>-7.920447</td>\n",
       "      <td>2.778283</td>\n",
       "    </tr>\n",
       "    <tr>\n",
       "      <th>892</th>\n",
       "      <td>892</td>\n",
       "      <td>2002-06-11T00:00:00</td>\n",
       "      <td>-9.574493</td>\n",
       "      <td>3.004543</td>\n",
       "    </tr>\n",
       "    <tr>\n",
       "      <th>928</th>\n",
       "      <td>928</td>\n",
       "      <td>2002-07-17T00:00:00</td>\n",
       "      <td>-9.162670</td>\n",
       "      <td>2.956561</td>\n",
       "    </tr>\n",
       "    <tr>\n",
       "      <th>972</th>\n",
       "      <td>972</td>\n",
       "      <td>2002-08-30T00:00:00</td>\n",
       "      <td>-7.911564</td>\n",
       "      <td>2.776953</td>\n",
       "    </tr>\n",
       "  </tbody>\n",
       "</table>\n",
       "</div>"
      ],
      "text/plain": [
       "     Unnamed: 0             datetime      value     score\n",
       "96           96  2000-04-06T00:00:00 -12.971341  3.301107\n",
       "177         177  2000-06-26T00:00:00  11.035253  3.197475\n",
       "418         418  2001-02-22T00:00:00  16.949052  3.534231\n",
       "427         427  2001-03-03T00:00:00   5.417560  2.345892\n",
       "465         465  2001-04-10T00:00:00   5.265623  2.295800\n",
       "485         485  2001-04-30T00:00:00  -5.508789  2.238254\n",
       "536         536  2001-06-20T00:00:00  10.982062  3.193262\n",
       "589         589  2001-08-12T00:00:00  -5.993005  2.376532\n",
       "660         660  2001-10-22T00:00:00  -6.338876  2.475846\n",
       "685         685  2001-11-16T00:00:00  -5.687724  2.292260\n",
       "842         842  2002-04-22T00:00:00  -7.920447  2.778283\n",
       "892         892  2002-06-11T00:00:00  -9.574493  3.004543\n",
       "928         928  2002-07-17T00:00:00  -9.162670  2.956561\n",
       "972         972  2002-08-30T00:00:00  -7.911564  2.776953"
      ]
     },
     "execution_count": 30,
     "metadata": {},
     "output_type": "execute_result"
    }
   ],
   "source": [
    "score_mean = df['score'].mean()\n",
    "score_std = df['score'].std()\n",
    "score_cutoff = score_mean + 3*score_std\n",
    "\n",
    "anomalies = df_subset[df_subset['score'] > score_cutoff]\n",
    "anomalies"
   ]
  },
  {
   "cell_type": "code",
   "execution_count": 31,
   "metadata": {},
   "outputs": [
    {
     "data": {
      "image/png": "[encoded data removed]",
      "text/plain": [
       "<Figure size 720x288 with 2 Axes>"
      ]
     },
     "execution_count": 31,
     "metadata": {},
     "output_type": "execute_result"
    }
   ],
   "source": [
    "ax2.plot(anomalies.index, anomalies.score, 'ko')\n",
    "fig"
   ]
  },
  {
   "cell_type": "code",
   "execution_count": 33,
   "metadata": {},
   "outputs": [],
   "source": [
    "sagemaker.Session(boto_session).delete_endpoint(rcf_inference.endpoint)"
   ]
  },
  {
   "cell_type": "code",
   "execution_count": null,
   "metadata": {},
   "outputs": [],
   "source": []
  }
 ],
 "metadata": {
  "kernelspec": {
   "display_name": "Python 3",
   "language": "python",
   "name": "python3"
  },
  "language_info": {
   "codemirror_mode": {
    "name": "ipython",
    "version": 3
   },
   "file_extension": ".py",
   "mimetype": "text/x-python",
   "name": "python",
   "nbconvert_exporter": "python",
   "pygments_lexer": "ipython3",
   "version": "3.6.7"
  }
 },
 "nbformat": 4,
 "nbformat_minor": 2
}
