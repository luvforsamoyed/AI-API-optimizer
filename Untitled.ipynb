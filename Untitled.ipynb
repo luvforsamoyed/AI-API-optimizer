{
 "cells": [
  {
   "cell_type": "code",
   "execution_count": 1,
   "metadata": {},
   "outputs": [],
   "source": [
    "import pandas as pd\n",
    "import numpy as np\n",
    "import matplotlib.pyplot as plt\n",
    "import json, datetime\n",
    "# from AWS import aws\n",
    "# from noAPI.Luminol import luminol_\n",
    "from Azure import azure"
   ]
  },
  {
   "cell_type": "code",
   "execution_count": 33,
   "metadata": {},
   "outputs": [],
   "source": [
    "taxi_df = pd.read_csv('https://raw.githubusercontent.com/numenta/NAB/master/data/realAdExchange/exchange-4_cpm_results.csv')\n"
   ]
  },
  {
   "cell_type": "code",
   "execution_count": 43,
   "metadata": {},
   "outputs": [
    {
     "data": {
      "text/plain": [
       "'\"https://raw.githubusercontent.com/numenta/NAB/master/labels/combined_labels.json\"'"
      ]
     },
     "execution_count": 43,
     "metadata": {},
     "output_type": "execute_result"
    }
   ],
   "source": [
    "hhh"
   ]
  },
  {
   "cell_type": "code",
   "execution_count": 22,
   "metadata": {},
   "outputs": [
    {
     "data": {
      "text/plain": [
       "array([5839])"
      ]
     },
     "execution_count": 22,
     "metadata": {},
     "output_type": "execute_result"
    }
   ],
   "source": [
    "taxi_df.loc[taxi_df['timestamp'] == \"2014-10-30 15:30:00\"].index.values"
   ]
  },
  {
   "cell_type": "code",
   "execution_count": 39,
   "metadata": {},
   "outputs": [],
   "source": [
    "abn_pt = np.array([\n",
    "    \"2011-07-16 09:15:01\",\n",
    "    \"2011-08-01 07:15:01\",\n",
    "    \"2011-08-23 08:15:01\",\n",
    "    \"2011-08-28 13:15:01\"\n",
    "])\n",
    "abn_pt = taxi_df.loc[taxi_df['timestamp'].isin(abn_pt)].index.values"
   ]
  },
  {
   "cell_type": "code",
   "execution_count": 35,
   "metadata": {},
   "outputs": [],
   "source": [
    "dt = taxi_df['timestamp'].values\n",
    "for i in dt:\n",
    "    i = datetime.datetime.strptime(i,\"%Y-%m-%d %H:%M:%S\").date().isoformat()\n",
    "y = np.array(taxi_df['value']).astype('float')"
   ]
  },
  {
   "cell_type": "code",
   "execution_count": 41,
   "metadata": {},
   "outputs": [
    {
     "name": "stdout",
     "output_type": "stream",
     "text": [
      "Detection failed. ErrorCode:InvalidGranularity, ErrorMessage:The 'granularity' field can only be one of the following: ['daily', 'minutely', 'hourly', 'weekly', 'monthly', 'yearly'].\n"
     ]
    },
    {
     "ename": "UnboundLocalError",
     "evalue": "local variable 'true' referenced before assignment",
     "output_type": "error",
     "traceback": [
      "\u001b[0;31m---------------------------------------------------------------------------\u001b[0m",
      "\u001b[0;31mUnboundLocalError\u001b[0m                         Traceback (most recent call last)",
      "\u001b[0;32m<ipython-input-41-d3d3f9523b71>\u001b[0m in \u001b[0;36m<module>\u001b[0;34m\u001b[0m\n\u001b[1;32m      5\u001b[0m             key = \"039b14e520f64e5b9907af6ac58edff2\")\n\u001b[1;32m      6\u001b[0m \u001b[0;34m\u001b[0m\u001b[0m\n\u001b[0;32m----> 7\u001b[0;31m \u001b[0mazure_f1\u001b[0m \u001b[0;34m=\u001b[0m \u001b[0maz\u001b[0m\u001b[0;34m.\u001b[0m\u001b[0mf1_metrics\u001b[0m\u001b[0;34m(\u001b[0m\u001b[0;34m)\u001b[0m\u001b[0;34m\u001b[0m\u001b[0;34m\u001b[0m\u001b[0m\n\u001b[0m\u001b[1;32m      8\u001b[0m \u001b[0mprint\u001b[0m\u001b[0;34m(\u001b[0m\u001b[0;34m\"F1 score for luminol is: %f\"\u001b[0m \u001b[0;34m%\u001b[0m\u001b[0mazure_f1\u001b[0m\u001b[0;34m)\u001b[0m\u001b[0;34m\u001b[0m\u001b[0;34m\u001b[0m\u001b[0m\n\u001b[1;32m      9\u001b[0m \u001b[0;34m\u001b[0m\u001b[0m\n",
      "\u001b[0;32m~/anomaly_detection/Azure/azure.py\u001b[0m in \u001b[0;36mf1_metrics\u001b[0;34m(self)\u001b[0m\n\u001b[1;32m     50\u001b[0m             \u001b[0mlists\u001b[0m\u001b[0;34m.\u001b[0m\u001b[0mappend\u001b[0m\u001b[0;34m(\u001b[0m\u001b[0;34m{\u001b[0m\u001b[0;34m\"timestamp\"\u001b[0m\u001b[0;34m:\u001b[0m \u001b[0mdt\u001b[0m\u001b[0;34m[\u001b[0m\u001b[0mi\u001b[0m\u001b[0;34m]\u001b[0m\u001b[0;34m,\u001b[0m \u001b[0;34m\"value\"\u001b[0m\u001b[0;34m:\u001b[0m \u001b[0my\u001b[0m\u001b[0;34m[\u001b[0m\u001b[0mi\u001b[0m\u001b[0;34m]\u001b[0m\u001b[0;34m}\u001b[0m\u001b[0;34m)\u001b[0m\u001b[0;34m\u001b[0m\u001b[0;34m\u001b[0m\u001b[0m\n\u001b[1;32m     51\u001b[0m         \u001b[0mdf\u001b[0m \u001b[0;34m=\u001b[0m \u001b[0;34m{\u001b[0m\u001b[0;34m'granularity'\u001b[0m\u001b[0;34m:\u001b[0m \u001b[0mself\u001b[0m\u001b[0;34m.\u001b[0m\u001b[0mgranularity\u001b[0m\u001b[0;34m,\u001b[0m \u001b[0;34m'series'\u001b[0m\u001b[0;34m:\u001b[0m \u001b[0mlists\u001b[0m\u001b[0;34m}\u001b[0m\u001b[0;34m\u001b[0m\u001b[0;34m\u001b[0m\u001b[0m\n\u001b[0;32m---> 52\u001b[0;31m         \u001b[0mtrue_\u001b[0m \u001b[0;34m=\u001b[0m \u001b[0mself\u001b[0m\u001b[0;34m.\u001b[0m\u001b[0mdetect_batch\u001b[0m\u001b[0;34m(\u001b[0m\u001b[0mdf\u001b[0m\u001b[0;34m)\u001b[0m\u001b[0;34m\u001b[0m\u001b[0;34m\u001b[0m\u001b[0m\n\u001b[0m\u001b[1;32m     53\u001b[0m \u001b[0;34m\u001b[0m\u001b[0m\n\u001b[1;32m     54\u001b[0m         \u001b[0my_true\u001b[0m \u001b[0;34m=\u001b[0m \u001b[0mnp\u001b[0m\u001b[0;34m.\u001b[0m\u001b[0mzeros\u001b[0m\u001b[0;34m(\u001b[0m\u001b[0my\u001b[0m\u001b[0;34m.\u001b[0m\u001b[0msize\u001b[0m\u001b[0;34m)\u001b[0m\u001b[0;34m\u001b[0m\u001b[0;34m\u001b[0m\u001b[0m\n",
      "\u001b[0;32m~/anomaly_detection/Azure/azure.py\u001b[0m in \u001b[0;36mdetect_batch\u001b[0;34m(self, request_data)\u001b[0m\n\u001b[1;32m     38\u001b[0m                     \u001b[0mtrue\u001b[0m\u001b[0;34m.\u001b[0m\u001b[0mappend\u001b[0m\u001b[0;34m(\u001b[0m\u001b[0mx\u001b[0m\u001b[0;34m)\u001b[0m\u001b[0;34m\u001b[0m\u001b[0;34m\u001b[0m\u001b[0m\n\u001b[1;32m     39\u001b[0m \u001b[0;34m\u001b[0m\u001b[0m\n\u001b[0;32m---> 40\u001b[0;31m         \u001b[0;32mreturn\u001b[0m \u001b[0mtrue\u001b[0m\u001b[0;34m\u001b[0m\u001b[0;34m\u001b[0m\u001b[0m\n\u001b[0m\u001b[1;32m     41\u001b[0m \u001b[0;34m\u001b[0m\u001b[0m\n\u001b[1;32m     42\u001b[0m     \u001b[0;32mdef\u001b[0m \u001b[0mf1_metrics\u001b[0m\u001b[0;34m(\u001b[0m\u001b[0mself\u001b[0m\u001b[0;34m)\u001b[0m\u001b[0;34m:\u001b[0m\u001b[0;34m\u001b[0m\u001b[0;34m\u001b[0m\u001b[0m\n",
      "\u001b[0;31mUnboundLocalError\u001b[0m: local variable 'true' referenced before assignment"
     ]
    }
   ],
   "source": [
    "az = azure.azure()\n",
    "az.set_data(abn_pt, y, dt, granularity = 'hourlyg',\n",
    "            url = \"/anomalydetector/v1.0/timeseries/entire/detect\", \n",
    "            endpoint = \"https://westus2.api.cognitive.microsoft.com/\", \n",
    "            key = \"039b14e520f64e5b9907af6ac58edff2\")\n",
    "\n",
    "azure_f1 = az.f1_metrics()\n",
    "print(\"F1 score for luminol is: %f\" %azure_f1)\n",
    "\n",
    "az.vis()"
   ]
  },
  {
   "cell_type": "code",
   "execution_count": 6,
   "metadata": {},
   "outputs": [
    {
     "data": {
      "text/plain": [
       "array([10844,  8127,  6210, ..., 27309, 26591, 26288])"
      ]
     },
     "execution_count": 6,
     "metadata": {},
     "output_type": "execute_result"
    }
   ],
   "source": [
    "az = azure.azure()\n",
    "az.set_data(abn_pt, y, dt, \n",
    "            url = \"/anomalydetector/v1.0/timeseries/entire/detect\", \n",
    "            endpoint = \"https://westus2.api.cognitive.microsoft.com/\", \n",
    "            key = \"039b14e520f64e5b9907af6ac58edff2\")\n",
    "\n",
    "azure_f1 = az.f1_metrics()\n",
    "print(\"F1 score for luminol is: %f\" %azure_f1)\n",
    "\n",
    "az.vis()"
   ]
  },
  {
   "cell_type": "code",
   "execution_count": null,
   "metadata": {},
   "outputs": [],
   "source": []
  }
 ],
 "metadata": {
  "kernelspec": {
   "display_name": "Python 3",
   "language": "python",
   "name": "python3"
  },
  "language_info": {
   "codemirror_mode": {
    "name": "ipython",
    "version": 3
   },
   "file_extension": ".py",
   "mimetype": "text/x-python",
   "name": "python",
   "nbconvert_exporter": "python",
   "pygments_lexer": "ipython3",
   "version": "3.6.7"
  }
 },
 "nbformat": 4,
 "nbformat_minor": 2
}
