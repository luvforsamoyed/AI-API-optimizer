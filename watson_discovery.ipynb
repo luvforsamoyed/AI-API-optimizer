{
 "cells": [
  {
   "cell_type": "code",
   "execution_count": null,
   "metadata": {},
   "outputs": [],
   "source": [
    "import ibm-watson"
   ]
  },
  {
   "cell_type": "code",
   "execution_count": 42,
   "metadata": {},
   "outputs": [],
   "source": [
    "import requests, json, datetime, calendar, time\n",
    "from datetime import datetime, time\n",
    "import pandas as pd\n",
    "import numpy as np"
   ]
  },
  {
   "cell_type": "code",
   "execution_count": 46,
   "metadata": {},
   "outputs": [],
   "source": [
    "req = pd.read_csv('https://raw.githubusercontent.com/numenta/NAB/master/data/realKnownCause/ec2_request_latency_system_failure.csv')\n",
    "#convert str dtype to datetime\n",
    "req['timestamp'] = pd.to_datetime(req['timestamp'])\n",
    "len_ = req.shape[0]\n",
    "time_stamp = []\n",
    "for i in range(len_):\n",
    "    time_stamp.append(req.timestamp[i].isoformat())"
   ]
  },
  {
   "cell_type": "code",
   "execution_count": 53,
   "metadata": {},
   "outputs": [
    {
     "data": {
      "text/plain": [
       "(4032, 2)"
      ]
     },
     "execution_count": 53,
     "metadata": {},
     "output_type": "execute_result"
    }
   ],
   "source": [
    "req.shape"
   ]
  },
  {
   "cell_type": "code",
   "execution_count": 48,
   "metadata": {},
   "outputs": [],
   "source": [
    "lists = []\n",
    "for i in range(len_):\n",
    "    lists.append({\"index\": i, \"timestamp\": time_stamp[i], \"value\": req.value[i]})\n",
    "df = {'title': 'latency_anomaly', 'series': lists}"
   ]
  },
  {
   "cell_type": "code",
   "execution_count": 49,
   "metadata": {},
   "outputs": [],
   "source": [
    "with open('data3.json', 'w') as outfile:\n",
    "    json.dump(df, outfile)"
   ]
  },
  {
   "cell_type": "code",
   "execution_count": 3,
   "metadata": {},
   "outputs": [],
   "source": [
    "with open('results2.json') as json_file:\n",
    "    result = json.load(json_file)"
   ]
  },
  {
   "cell_type": "code",
   "execution_count": 2,
   "metadata": {},
   "outputs": [],
   "source": [
    "import json"
   ]
  },
  {
   "cell_type": "code",
   "execution_count": 8,
   "metadata": {},
   "outputs": [],
   "source": [
    "# result['aggregations'][0]['results']"
   ]
  },
  {
   "cell_type": "code",
   "execution_count": 10,
   "metadata": {},
   "outputs": [
    {
     "name": "stdout",
     "output_type": "stream",
     "text": [
      "[]\n",
      "1000\n"
     ]
    }
   ],
   "source": [
    "length = len(result['aggregations'][0]['results'])\n",
    "count = 0\n",
    "anomaly_pt = []\n",
    "for i in range(length):\n",
    "    if result['aggregations'][0]['results'][i].get('anomaly') != None:\n",
    "        anomaly_pt.append(result['aggregations'][0]['results'][i].get('key_as_string'))\n",
    "    else:\n",
    "        count += 1\n",
    "        \n",
    "print(anomaly_pt)\n",
    "print(count)"
   ]
  },
  {
   "cell_type": "code",
   "execution_count": 40,
   "metadata": {},
   "outputs": [
    {
     "data": {
      "text/plain": [
       "[1394298000.0, 1394298900.0, 1394299800.0, 1394300700.0]"
      ]
     },
     "execution_count": 40,
     "metadata": {},
     "output_type": "execute_result"
    }
   ],
   "source": [
    "import dateutil.parser\n",
    "for i in range(len(anomaly_pt)):\n",
    "    anomaly_pt[i] = time.mktime(dateutil.parser.parse(anomaly_pt[i]).timetuple())\n",
    "anomaly_pt"
   ]
  },
  {
   "cell_type": "code",
   "execution_count": 17,
   "metadata": {},
   "outputs": [
    {
     "data": {
      "text/plain": [
       "{'key_as_string': '2014-03-07T03:45:00.000Z',\n",
       " 'key': 1394163900000,\n",
       " 'matching_results': 1}"
      ]
     },
     "execution_count": 17,
     "metadata": {},
     "output_type": "execute_result"
    }
   ],
   "source": [
    "result['aggregations'][0]['results'][1]"
   ]
  },
  {
   "cell_type": "code",
   "execution_count": null,
   "metadata": {},
   "outputs": [],
   "source": []
  }
 ],
 "metadata": {
  "kernelspec": {
   "display_name": "Python 3",
   "language": "python",
   "name": "python3"
  },
  "language_info": {
   "codemirror_mode": {
    "name": "ipython",
    "version": 3
   },
   "file_extension": ".py",
   "mimetype": "text/x-python",
   "name": "python",
   "nbconvert_exporter": "python",
   "pygments_lexer": "ipython3",
   "version": "3.6.7"
  }
 },
 "nbformat": 4,
 "nbformat_minor": 2
}
